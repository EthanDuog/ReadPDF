{
  "nbformat": 4,
  "nbformat_minor": 0,
  "metadata": {
    "colab": {
      "provenance": [],
      "authorship_tag": "ABX9TyN6+niQR9Kp8fC3AOre+RUB",
      "include_colab_link": true
    },
    "kernelspec": {
      "name": "python3",
      "display_name": "Python 3"
    },
    "language_info": {
      "name": "python"
    }
  },
  "cells": [
    {
      "cell_type": "markdown",
      "metadata": {
        "id": "view-in-github",
        "colab_type": "text"
      },
      "source": [
        "<a href=\"https://colab.research.google.com/github/EthanDuog/ReadPDF/blob/main/ReadPDF.ipynb\" target=\"_parent\"><img src=\"https://colab.research.google.com/assets/colab-badge.svg\" alt=\"Open In Colab\"/></a>"
      ]
    },
    {
      "cell_type": "code",
      "execution_count": 1,
      "metadata": {
        "id": "dLDlTd_EF3V0"
      },
      "outputs": [],
      "source": [
        "from pathlib import Path"
      ]
    },
    {
      "cell_type": "code",
      "source": [
        "import re"
      ],
      "metadata": {
        "id": "o7X9_pT6Ll66"
      },
      "execution_count": 15,
      "outputs": []
    },
    {
      "cell_type": "code",
      "source": [
        "!pip install PyMuPDF"
      ],
      "metadata": {
        "colab": {
          "base_uri": "https://localhost:8080/"
        },
        "id": "uIqceHXwJiXC",
        "outputId": "0909b3ed-2927-4421-fc9b-0f58651194dd"
      },
      "execution_count": 7,
      "outputs": [
        {
          "output_type": "stream",
          "name": "stdout",
          "text": [
            "Looking in indexes: https://pypi.org/simple, https://us-python.pkg.dev/colab-wheels/public/simple/\n",
            "Collecting PyMuPDF\n",
            "  Downloading PyMuPDF-1.21.1-cp38-cp38-manylinux_2_17_x86_64.manylinux2014_x86_64.whl (14.0 MB)\n",
            "\u001b[2K     \u001b[90m━━━━━━━━━━━━━━━━━━━━━━━━━━━━━━━━━━━━━━━━\u001b[0m \u001b[32m14.0/14.0 MB\u001b[0m \u001b[31m75.3 MB/s\u001b[0m eta \u001b[36m0:00:00\u001b[0m\n",
            "\u001b[?25hInstalling collected packages: PyMuPDF\n",
            "Successfully installed PyMuPDF-1.21.1\n"
          ]
        }
      ]
    },
    {
      "cell_type": "code",
      "source": [
        "!pip install fitz"
      ],
      "metadata": {
        "id": "oGEGtDbpIk_b"
      },
      "execution_count": null,
      "outputs": []
    },
    {
      "cell_type": "code",
      "source": [
        "import fitz"
      ],
      "metadata": {
        "id": "gRpuer9UI3Ix"
      },
      "execution_count": 8,
      "outputs": []
    },
    {
      "cell_type": "code",
      "source": [
        "def pymupdf_extract(file_path):\n",
        "  # OCR the PDF using the default 'text' parameter\n",
        "  ocr_text=[]\n",
        "  with fitz.open(file_path) as doc:\n",
        "      for page in doc:\n",
        "          text = page.get_text()\n",
        "          ocr_text.append(text)\n",
        "          # print(text)\n",
        "  return ocr_text"
      ],
      "metadata": {
        "id": "ULijr2MtF8FS"
      },
      "execution_count": 39,
      "outputs": []
    },
    {
      "cell_type": "code",
      "source": [
        "# returns all file paths that has .pdf as extension in the specified directory\n",
        "pdf_search = Path(\"/content/pdfile\").glob(\"*.pdf\")\n",
        "# convert the glob generator out put to list\n",
        "pdf_files = pdf_files = [str(file.absolute()) for file in pdf_search]"
      ],
      "metadata": {
        "id": "oKGcKROOHomO"
      },
      "execution_count": 40,
      "outputs": []
    },
    {
      "cell_type": "code",
      "source": [
        "for pdf_path in pdf_files:\n",
        "  cv_mess_text=pymupdf_extract(pdf_path) \n",
        "  if \"Union\" and \"Human Resource\" in cv_mess_text[0]:\n",
        "    print(pdf_path)"
      ],
      "metadata": {
        "colab": {
          "base_uri": "https://localhost:8080/"
        },
        "id": "LlByZMCQHrV4",
        "outputId": "bb56ae7b-21a9-444c-b5df-784f94ef94b6"
      },
      "execution_count": 48,
      "outputs": [
        {
          "output_type": "stream",
          "name": "stdout",
          "text": [
            "/content/pdfile/Resume_1.pdf\n",
            "/content/pdfile/Resume_5.pdf\n"
          ]
        }
      ]
    },
    {
      "cell_type": "code",
      "source": [
        "print(pdf_files)"
      ],
      "metadata": {
        "colab": {
          "base_uri": "https://localhost:8080/"
        },
        "id": "VccFtfFaJoUP",
        "outputId": "96024546-be60-46a0-89d0-6d33edad065d"
      },
      "execution_count": 49,
      "outputs": [
        {
          "output_type": "stream",
          "name": "stdout",
          "text": [
            "['/content/pdfile/Resume_3.pdf', '/content/pdfile/Resume_1.pdf', '/content/pdfile/Resume_2.pdf', '/content/pdfile/Resume_4.pdf', '/content/pdfile/Resume_5.pdf', '/content/pdfile/Resume_6.pdf', '/content/pdfile/Resume_7.pdf']\n"
          ]
        }
      ]
    }
  ]
}